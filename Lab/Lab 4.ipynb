{
 "cells": [
  {
   "cell_type": "code",
   "execution_count": 23,
   "metadata": {},
   "outputs": [],
   "source": [
    "import numpy as np\n",
    "import pandas as pd"
   ]
  },
  {
   "cell_type": "code",
   "execution_count": 24,
   "metadata": {},
   "outputs": [
    {
     "data": {
      "text/plain": [
       "Summary                     29\n",
       "Precip Type                 49\n",
       "Temperature (C)             30\n",
       "Apparent Temperature (C)    25\n",
       "Humidity                    27\n",
       "Wind Speed (km/h)           34\n",
       "Wind Bearing (degrees)      28\n",
       "Visibility (km)             36\n",
       "Pressure (millibars)        26\n",
       "dtype: int64"
      ]
     },
     "execution_count": 24,
     "metadata": {},
     "output_type": "execute_result"
    }
   ],
   "source": [
    "data = pd.read_csv('data.csv')\n",
    "data.isna().sum()"
   ]
  },
  {
   "cell_type": "code",
   "execution_count": 25,
   "metadata": {},
   "outputs": [
    {
     "name": "stdout",
     "output_type": "stream",
     "text": [
      "209    NaN\n",
      "303    NaN\n",
      "318    NaN\n",
      "350    NaN\n",
      "621    NaN\n",
      "771    NaN\n",
      "800    NaN\n",
      "862    NaN\n",
      "905    NaN\n",
      "988    NaN\n",
      "994    NaN\n",
      "1062   NaN\n",
      "1101   NaN\n",
      "1206   NaN\n",
      "1244   NaN\n",
      "1304   NaN\n",
      "1478   NaN\n",
      "1509   NaN\n",
      "1516   NaN\n",
      "1772   NaN\n",
      "1785   NaN\n",
      "1821   NaN\n",
      "1826   NaN\n",
      "1870   NaN\n",
      "1874   NaN\n",
      "1918   NaN\n",
      "1937   NaN\n",
      "Name: Humidity, dtype: float64\n"
     ]
    }
   ],
   "source": [
    "#fillna() is function use to replace data where is null. We can set value where is null data\n",
    "bool_na = data['Humidity'].isna()\n",
    "print(data['Humidity'].loc[bool_na])"
   ]
  },
  {
   "cell_type": "code",
   "execution_count": 26,
   "metadata": {},
   "outputs": [],
   "source": [
    "data['Humidity'].fillna(0.9,inplace = True)"
   ]
  },
  {
   "cell_type": "code",
   "execution_count": 27,
   "metadata": {},
   "outputs": [
    {
     "name": "stdout",
     "output_type": "stream",
     "text": [
      "209     0.9\n",
      "303     0.9\n",
      "318     0.9\n",
      "350     0.9\n",
      "621     0.9\n",
      "771     0.9\n",
      "800     0.9\n",
      "862     0.9\n",
      "905     0.9\n",
      "988     0.9\n",
      "994     0.9\n",
      "1062    0.9\n",
      "1101    0.9\n",
      "1206    0.9\n",
      "1244    0.9\n",
      "1304    0.9\n",
      "1478    0.9\n",
      "1509    0.9\n",
      "1516    0.9\n",
      "1772    0.9\n",
      "1785    0.9\n",
      "1821    0.9\n",
      "1826    0.9\n",
      "1870    0.9\n",
      "1874    0.9\n",
      "1918    0.9\n",
      "1937    0.9\n",
      "Name: Humidity, dtype: float64\n"
     ]
    }
   ],
   "source": [
    "print(data['Humidity'].loc[bool_na])"
   ]
  },
  {
   "cell_type": "code",
   "execution_count": 29,
   "metadata": {},
   "outputs": [
    {
     "name": "stdout",
     "output_type": "stream",
     "text": [
      "9       NaN\n",
      "247     NaN\n",
      "308     NaN\n",
      "415     NaN\n",
      "442     NaN\n",
      "536     NaN\n",
      "570     NaN\n",
      "667     NaN\n",
      "713     NaN\n",
      "776     NaN\n",
      "804     NaN\n",
      "879     NaN\n",
      "952     NaN\n",
      "1069    NaN\n",
      "1101    NaN\n",
      "1149    NaN\n",
      "1198    NaN\n",
      "1275    NaN\n",
      "1319    NaN\n",
      "1355    NaN\n",
      "1424    NaN\n",
      "1437    NaN\n",
      "1494    NaN\n",
      "1567    NaN\n",
      "1640    NaN\n",
      "1708    NaN\n",
      "1733    NaN\n",
      "1812    NaN\n",
      "1907    NaN\n",
      "Name: Summary, dtype: object\n"
     ]
    }
   ],
   "source": [
    "bool_nan = data['Summary'].isna()\n",
    "print(data['Summary'].loc[bool_nan])"
   ]
  },
  {
   "cell_type": "code",
   "execution_count": 30,
   "metadata": {},
   "outputs": [
    {
     "name": "stdout",
     "output_type": "stream",
     "text": [
      "9       Not Available\n",
      "247     Not Available\n",
      "308     Not Available\n",
      "415     Not Available\n",
      "442     Not Available\n",
      "536     Not Available\n",
      "570     Not Available\n",
      "667     Not Available\n",
      "713     Not Available\n",
      "776     Not Available\n",
      "804     Not Available\n",
      "879     Not Available\n",
      "952     Not Available\n",
      "1069    Not Available\n",
      "1101    Not Available\n",
      "1149    Not Available\n",
      "1198    Not Available\n",
      "1275    Not Available\n",
      "1319    Not Available\n",
      "1355    Not Available\n",
      "1424    Not Available\n",
      "1437    Not Available\n",
      "1494    Not Available\n",
      "1567    Not Available\n",
      "1640    Not Available\n",
      "1708    Not Available\n",
      "1733    Not Available\n",
      "1812    Not Available\n",
      "1907    Not Available\n",
      "Name: Summary, dtype: object\n"
     ]
    }
   ],
   "source": [
    "data['Summary'].fillna('Not Available',inplace = True)\n",
    "print(data['Summary'].loc[bool_nan])"
   ]
  },
  {
   "cell_type": "code",
   "execution_count": 32,
   "metadata": {},
   "outputs": [
    {
     "name": "stdout",
     "output_type": "stream",
     "text": [
      "9.7244\n"
     ]
    }
   ],
   "source": [
    "windspeed_data = data['Wind Speed (km/h)'].median()\n",
    "print(windspeed_data)"
   ]
  },
  {
   "cell_type": "code",
   "execution_count": 33,
   "metadata": {},
   "outputs": [
    {
     "name": "stdout",
     "output_type": "stream",
     "text": [
      "0       25.9210\n",
      "1       14.5866\n",
      "2        9.7244\n",
      "3        3.5259\n",
      "4       17.1465\n",
      "         ...   \n",
      "1941    10.6582\n",
      "1942     6.2307\n",
      "1943    11.2700\n",
      "1944     5.1359\n",
      "1945     3.2039\n",
      "Name: Wind Speed (km/h), Length: 1946, dtype: float64\n"
     ]
    }
   ],
   "source": [
    "data['Wind Speed (km/h)'].fillna(windspeed_data,inplace = True)\n",
    "print(data['Wind Speed (km/h)'])"
   ]
  },
  {
   "cell_type": "code",
   "execution_count": 34,
   "metadata": {},
   "outputs": [
    {
     "name": "stdout",
     "output_type": "stream",
     "text": [
      "0       1025.18\n",
      "1       1014.90\n",
      "2       1009.30\n",
      "3       1017.32\n",
      "4       1014.97\n",
      "         ...   \n",
      "1941    1018.69\n",
      "1942    1009.55\n",
      "1943    1012.30\n",
      "1944    1014.63\n",
      "1945    1008.77\n",
      "Name: Pressure (millibars), Length: 1946, dtype: float64\n"
     ]
    }
   ],
   "source": [
    "pressure_data = data['Pressure (millibars)'].mean()\n",
    "data['Pressure (millibars)'].fillna(pressure_data,inplace = True)\n",
    "print(data['Pressure (millibars)'])"
   ]
  },
  {
   "cell_type": "code",
   "execution_count": 35,
   "metadata": {},
   "outputs": [
    {
     "name": "stdout",
     "output_type": "stream",
     "text": [
      "0    rain\n",
      "Name: Precip Type, dtype: object\n"
     ]
    }
   ],
   "source": [
    "precip_data = data['Precip Type'].mode()\n",
    "print(precip_data)"
   ]
  },
  {
   "cell_type": "code",
   "execution_count": 36,
   "metadata": {},
   "outputs": [
    {
     "name": "stdout",
     "output_type": "stream",
     "text": [
      "rain\n"
     ]
    }
   ],
   "source": [
    "print(precip_data[0])"
   ]
  },
  {
   "cell_type": "code",
   "execution_count": 37,
   "metadata": {},
   "outputs": [
    {
     "name": "stdout",
     "output_type": "stream",
     "text": [
      "0       rain\n",
      "1       rain\n",
      "2       rain\n",
      "3       rain\n",
      "4       rain\n",
      "        ... \n",
      "1941    rain\n",
      "1942    rain\n",
      "1943    rain\n",
      "1944    rain\n",
      "1945    rain\n",
      "Name: Precip Type, Length: 1946, dtype: object\n"
     ]
    }
   ],
   "source": [
    "data['Precip Type'].fillna(precip_data[0],inplace=True)\n",
    "print(data['Precip Type'])"
   ]
  },
  {
   "cell_type": "code",
   "execution_count": 38,
   "metadata": {},
   "outputs": [
    {
     "name": "stdout",
     "output_type": "stream",
     "text": [
      "(1946, 9)\n"
     ]
    }
   ],
   "source": [
    "print(data.shape)"
   ]
  },
  {
   "cell_type": "code",
   "execution_count": 39,
   "metadata": {},
   "outputs": [
    {
     "name": "stdout",
     "output_type": "stream",
     "text": [
      "(1831, 9)\n"
     ]
    }
   ],
   "source": [
    "#dropna() is function use to delete null data in your data and keep it in new dataframe name is data1\n",
    "\n",
    "data1 = data.dropna()\n",
    "print(data1.shape)"
   ]
  },
  {
   "cell_type": "code",
   "execution_count": 40,
   "metadata": {},
   "outputs": [
    {
     "name": "stdout",
     "output_type": "stream",
     "text": [
      "(1946, 5)\n"
     ]
    }
   ],
   "source": [
    "#dropna(axis=1) is a function use to keep null data that has delete and keep it in new dataframe name is data2\n",
    "data2 = data.dropna(axis=1)\n",
    "print(data2.shape)"
   ]
  },
  {
   "cell_type": "code",
   "execution_count": null,
   "metadata": {},
   "outputs": [],
   "source": []
  }
 ],
 "metadata": {
  "kernelspec": {
   "display_name": "Python 3",
   "language": "python",
   "name": "python3"
  },
  "language_info": {
   "codemirror_mode": {
    "name": "ipython",
    "version": 3
   },
   "file_extension": ".py",
   "mimetype": "text/x-python",
   "name": "python",
   "nbconvert_exporter": "python",
   "pygments_lexer": "ipython3",
   "version": "3.11.3"
  }
 },
 "nbformat": 4,
 "nbformat_minor": 2
}
