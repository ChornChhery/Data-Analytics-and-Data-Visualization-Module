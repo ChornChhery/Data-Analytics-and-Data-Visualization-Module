{
 "cells": [
  {
   "cell_type": "code",
   "execution_count": 1,
   "metadata": {},
   "outputs": [],
   "source": [
    "import numpy as np\n",
    "import pandas as pd"
   ]
  },
  {
   "cell_type": "code",
   "execution_count": 3,
   "metadata": {},
   "outputs": [
    {
     "data": {
      "text/plain": [
       "Summary                     0\n",
       "Precip Type                 0\n",
       "Temperature (C)             0\n",
       "Apparent Temperature (C)    0\n",
       "Humidity                    0\n",
       "Wind Speed (km/h)           0\n",
       "Wind Bearing (degrees)      0\n",
       "Visibility (km)             4\n",
       "Pressure (millibars)        0\n",
       "dtype: int64"
      ]
     },
     "execution_count": 3,
     "metadata": {},
     "output_type": "execute_result"
    }
   ],
   "source": [
    "data = pd.read_csv('data5.csv')\n",
    "data.isna().sum() #isna() is use to find null data in your data file"
   ]
  },
  {
   "cell_type": "code",
   "execution_count": 4,
   "metadata": {},
   "outputs": [],
   "source": [
    "boolean_missing = data.isna().any(axis=1) #collect and keep missing data\n",
    "data_missing = data[boolean_missing]"
   ]
  },
  {
   "cell_type": "code",
   "execution_count": 6,
   "metadata": {},
   "outputs": [
    {
     "name": "stdout",
     "output_type": "stream",
     "text": [
      "          Summary Precip Type  Temperature (C)  Apparent Temperature (C)  \\\n",
      "0   Partly Cloudy        rain        12.222222                 12.222222   \n",
      "79  Mostly Cloudy        rain        24.422222                 24.422222   \n",
      "21  Mostly Cloudy        rain        14.527778                 14.527778   \n",
      "42       Overcast        rain        17.822222                 17.822222   \n",
      "47  Partly Cloudy        rain         3.816667                  1.100000   \n",
      "..            ...         ...              ...                       ...   \n",
      "65          Foggy        rain         2.938889                  0.444444   \n",
      "20  Partly Cloudy        rain         4.350000                  1.072222   \n",
      "40  Mostly Cloudy        rain         7.994444                  4.877778   \n",
      "66  Partly Cloudy        rain        12.777778                 12.777778   \n",
      "94  Mostly Cloudy        rain        17.233333                 17.233333   \n",
      "\n",
      "    Humidity  Wind Speed (km/h)  Wind Bearing (degrees)  Visibility (km)  \\\n",
      "0       0.59            11.2700                     290          16.1000   \n",
      "79      0.30            10.7709                       8          16.1000   \n",
      "21      0.56             6.6493                     299          16.1000   \n",
      "42      0.40            10.8675                      40          16.1000   \n",
      "47      0.73            10.7387                     170          16.1000   \n",
      "..       ...                ...                     ...              ...   \n",
      "65      1.00             9.0482                     300           0.4347   \n",
      "20      0.83            14.3290                     320              NaN   \n",
      "40      0.76            19.8513                     162              NaN   \n",
      "66      0.77             3.0751                      80              NaN   \n",
      "94      0.58            20.0123                      10              NaN   \n",
      "\n",
      "    Pressure (millibars)  \n",
      "0                1008.90  \n",
      "79               1021.60  \n",
      "21               1025.81  \n",
      "42               1012.27  \n",
      "47               1013.22  \n",
      "..                   ...  \n",
      "65               1035.01  \n",
      "20               1016.26  \n",
      "40               1005.17  \n",
      "66               1016.13  \n",
      "94               1024.07  \n",
      "\n",
      "[100 rows x 9 columns]\n"
     ]
    }
   ],
   "source": [
    "data_sorted = data.sort_values(by=['Visibility (km)'])\n",
    "data_sorted_missing = data.sort_values(by=['Visibility (km)'],ascending=False)\n",
    "print(data_sorted_missing)"
   ]
  },
  {
   "cell_type": "code",
   "execution_count": 7,
   "metadata": {},
   "outputs": [
    {
     "name": "stdout",
     "output_type": "stream",
     "text": [
      "28    32.044444\n",
      "43    29.861111\n",
      "34    28.877778\n",
      "Name: Temperature (C), dtype: float64\n"
     ]
    }
   ],
   "source": [
    "data_sorted = data.sort_values(by=['Temperature (C)'],ascending=False)\n",
    "print(data_sorted.head(3)['Temperature (C)'])"
   ]
  },
  {
   "cell_type": "code",
   "execution_count": 10,
   "metadata": {},
   "outputs": [
    {
     "name": "stdout",
     "output_type": "stream",
     "text": [
      "32     999.70\n",
      "95    1001.60\n",
      "60    1004.83\n",
      "Name: Pressure (millibars), dtype: float64\n"
     ]
    }
   ],
   "source": [
    "data_sorted = data_sorted.sort_values(by=['Pressure (millibars)'])\n",
    "print(data_sorted.head(3)['Pressure (millibars)'])"
   ]
  },
  {
   "cell_type": "code",
   "execution_count": 12,
   "metadata": {},
   "outputs": [
    {
     "name": "stdout",
     "output_type": "stream",
     "text": [
      "64    0.000\n",
      "70    1.288\n",
      "3     1.610\n",
      "Name: Wind Speed (km/h), dtype: float64\n"
     ]
    }
   ],
   "source": [
    "data_sorted = data.sort_values(by=['Wind Speed (km/h)'])\n",
    "print(data_sorted.head(3)['Wind Speed (km/h)'])"
   ]
  },
  {
   "cell_type": "code",
   "execution_count": 13,
   "metadata": {},
   "outputs": [
    {
     "name": "stdout",
     "output_type": "stream",
     "text": [
      "          Summary Precip Type  Temperature (C)  Apparent Temperature (C)  \\\n",
      "66  Partly Cloudy        rain        12.777778                 12.777778   \n",
      "20  Partly Cloudy        rain         4.350000                  1.072222   \n",
      "40  Mostly Cloudy        rain         7.994444                  4.877778   \n",
      "94  Mostly Cloudy        rain        17.233333                 17.233333   \n",
      "\n",
      "    Humidity  Wind Speed (km/h)  Wind Bearing (degrees)  Visibility (km)  \\\n",
      "66      0.77             3.0751                      80          16.1000   \n",
      "20      0.83            14.3290                     320           1.4490   \n",
      "40      0.76            19.8513                     162          15.1823   \n",
      "94      0.58            20.0123                      10          15.1823   \n",
      "\n",
      "    Pressure (millibars)  \n",
      "66               1016.13  \n",
      "20               1016.26  \n",
      "40               1005.17  \n",
      "94               1024.07  \n"
     ]
    }
   ],
   "source": [
    "data_sorted = data.sort_values(by=['Wind Speed (km/h)'])\n",
    "boolean_missing = data_sorted.isna().any(axis=1)\n",
    "data_missing = data_sorted[boolean_missing]\n",
    "data_ffill = data_sorted.fillna(method='bfill') #take null values to dataframe name is data_ffill and bfill like NOCB\n",
    "data_missing = data_ffill[boolean_missing]\n",
    "print(data_missing)\n"
   ]
  },
  {
   "cell_type": "code",
   "execution_count": 14,
   "metadata": {},
   "outputs": [
    {
     "name": "stdout",
     "output_type": "stream",
     "text": [
      "          Summary Precip Type  Temperature (C)  Apparent Temperature (C)  \\\n",
      "66  Partly Cloudy        rain        12.777778                 12.777778   \n",
      "20  Partly Cloudy        rain         4.350000                  1.072222   \n",
      "40  Mostly Cloudy        rain         7.994444                  4.877778   \n",
      "\n",
      "    Humidity  Wind Speed (km/h)  Wind Bearing (degrees)  Visibility (km)  \\\n",
      "66      0.77             3.0751                      80          16.1000   \n",
      "20      0.83            14.3290                     320           1.4490   \n",
      "40      0.76            19.8513                     162          15.1823   \n",
      "\n",
      "    Pressure (millibars)  \n",
      "66               1016.13  \n",
      "20               1016.26  \n",
      "40               1005.17  \n"
     ]
    }
   ],
   "source": [
    "print(data_missing.head(3))"
   ]
  },
  {
   "cell_type": "code",
   "execution_count": null,
   "metadata": {},
   "outputs": [],
   "source": []
  }
 ],
 "metadata": {
  "kernelspec": {
   "display_name": "Python 3",
   "language": "python",
   "name": "python3"
  },
  "language_info": {
   "codemirror_mode": {
    "name": "ipython",
    "version": 3
   },
   "file_extension": ".py",
   "mimetype": "text/x-python",
   "name": "python",
   "nbconvert_exporter": "python",
   "pygments_lexer": "ipython3",
   "version": "3.11.3"
  }
 },
 "nbformat": 4,
 "nbformat_minor": 2
}
